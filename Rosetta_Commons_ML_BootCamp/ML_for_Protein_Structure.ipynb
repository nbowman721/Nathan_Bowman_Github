{
 "cells": [
  {
   "cell_type": "code",
   "execution_count": 1,
   "id": "b0da1099-3dc1-45e4-bbd4-c1712b443e5e",
   "metadata": {},
   "outputs": [
    {
     "name": "stdout",
     "output_type": "stream",
     "text": [
      "Defaulting to user installation because normal site-packages is not writeable\n",
      "Requirement already satisfied: biopython in c:\\users\\nathan bowman\\appdata\\local\\packages\\pythonsoftwarefoundation.python.3.12_qbz5n2kfra8p0\\localcache\\local-packages\\python312\\site-packages (1.84)\n",
      "Requirement already satisfied: numpy in c:\\users\\nathan bowman\\appdata\\local\\packages\\pythonsoftwarefoundation.python.3.12_qbz5n2kfra8p0\\localcache\\local-packages\\python312\\site-packages (from biopython) (2.1.3)\n",
      "Note: you may need to restart the kernel to use updated packages.\n"
     ]
    },
    {
     "name": "stderr",
     "output_type": "stream",
     "text": [
      "\n",
      "[notice] A new release of pip is available: 24.3.1 -> 25.0.1\n",
      "[notice] To update, run: C:\\Users\\Nathan Bowman\\AppData\\Local\\Microsoft\\WindowsApps\\PythonSoftwareFoundation.Python.3.12_qbz5n2kfra8p0\\python.exe -m pip install --upgrade pip\n"
     ]
    }
   ],
   "source": [
    "pip install biopython"
   ]
  },
  {
   "cell_type": "markdown",
   "id": "c548f0ad",
   "metadata": {},
   "source": [
    "### Initial Start-Up"
   ]
  },
  {
   "cell_type": "code",
   "execution_count": 2,
   "id": "81e91653-6b66-4e3c-9939-cb4aa69b5869",
   "metadata": {},
   "outputs": [],
   "source": [
    "#import necessary items\n",
    "import pandas as pd\n",
    "from Bio import SeqIO\n",
    "from Bio.Seq import Seq\n",
    "from Bio.SeqRecord import SeqRecord\n",
    "from Bio.SeqFeature import SeqFeature, FeatureLocation\n",
    "import pandas as pd\n",
    "import os"
   ]
  },
  {
   "cell_type": "code",
   "execution_count": 3,
   "id": "e9d010ce",
   "metadata": {},
   "outputs": [
    {
     "name": "stdout",
     "output_type": "stream",
     "text": [
      "Current Directory: c:\\Users\\Nathan Bowman\\Desktop\\VSCode_GitHub\\Nathan_Bowman_Github\\Rosetta_Commons_ML_BootCamp\n",
      "Subfolders in Current Directory: []\n",
      "./\n",
      "├── PCR_Simulator.ipynb\n"
     ]
    }
   ],
   "source": [
    "def print_directory_map(dir_path, indent=''):\n",
    "    \"\"\"Prints a map of the directory structure.\"\"\"\n",
    "    items = os.listdir(dir_path)\n",
    "    for i, item in enumerate(items):\n",
    "        item_path = os.path.join(dir_path, item)\n",
    "        if os.path.isfile(item_path):\n",
    "            print(indent + '├── ' + item)\n",
    "        elif os.path.isdir(item_path):\n",
    "             print(indent + '├── ' + item + '/')\n",
    "             if i == len(items)-1:\n",
    "                print_directory_map(item_path, indent + '    ')\n",
    "             else:\n",
    "                print_directory_map(item_path, indent + '|   ')\n",
    "\n",
    "# Print current working directory\n",
    "current_directory = os.getcwd()\n",
    "print(\"Current Directory:\", current_directory)\n",
    "\n",
    "# Print subfolders\n",
    "items = os.listdir(current_directory)\n",
    "current_directory_subfolders = [item for item in items if os.path.isdir(os.path.join(current_directory, item))]\n",
    "print(\"Subfolders in Current Directory:\", current_directory_subfolders)\n",
    "\n",
    "# Print Directory Map\n",
    "directory_path = '.'  # Current directory\n",
    "print(directory_path + '/')\n",
    "print_directory_map(directory_path)"
   ]
  },
  {
   "cell_type": "code",
   "execution_count": null,
   "id": "d6e52499",
   "metadata": {},
   "outputs": [],
   "source": []
  }
 ],
 "metadata": {
  "kernelspec": {
   "display_name": "Python 3",
   "language": "python",
   "name": "python3"
  },
  "language_info": {
   "codemirror_mode": {
    "name": "ipython",
    "version": 3
   },
   "file_extension": ".py",
   "mimetype": "text/x-python",
   "name": "python",
   "nbconvert_exporter": "python",
   "pygments_lexer": "ipython3",
   "version": "3.12.9"
  }
 },
 "nbformat": 4,
 "nbformat_minor": 5
}
